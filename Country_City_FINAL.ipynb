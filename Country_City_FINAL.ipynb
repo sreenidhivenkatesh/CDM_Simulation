{
 "cells": [
  {
   "cell_type": "code",
   "execution_count": 1,
   "id": "bd6500f8-b936-48fb-b77f-488504b8ebe7",
   "metadata": {},
   "outputs": [],
   "source": [
    "# generating 500 values for country/city in UK based on population data \n",
    "\n",
    "# map cities to countries  - cannot simulate both, need to match"
   ]
  },
  {
   "cell_type": "code",
   "execution_count": 2,
   "id": "8147db1b-442b-4653-b09b-4f7ac4ae2fb5",
   "metadata": {},
   "outputs": [],
   "source": [
    "# city population info is only informative about urban populations"
   ]
  },
  {
   "cell_type": "code",
   "execution_count": 3,
   "id": "5ba09389-2e7d-4916-af89-f7c57bc5531d",
   "metadata": {},
   "outputs": [],
   "source": [
    "import pandas as pd\n",
    "import numpy as np\n"
   ]
  },
  {
   "cell_type": "code",
   "execution_count": 4,
   "id": "ce593707-d1fa-42ca-b3a5-6dfd2bb9f613",
   "metadata": {},
   "outputs": [
    {
     "name": "stdout",
     "output_type": "stream",
     "text": [
      "        2022         city\n",
      "0    8961989       London\n",
      "1     984333   Birmingham\n",
      "2     864122    Liverpool\n",
      "3     685368    Sheffield\n",
      "4     617280      Bristol\n",
      "..       ...          ...\n",
      "395    32872    Brighouse\n",
      "396    32566       Darwen\n",
      "397    32489      Wisbech\n",
      "398    32286        Aston\n",
      "399    32176  Borehamwood\n",
      "\n",
      "[400 rows x 2 columns]\n"
     ]
    }
   ],
   "source": [
    "citydata = pd.read_csv(\"csvData.csv\")\n",
    "print(citydata)\n"
   ]
  },
  {
   "cell_type": "code",
   "execution_count": 5,
   "id": "c22946e6-f31d-4cf2-8412-1f150cb22108",
   "metadata": {},
   "outputs": [
    {
     "name": "stdout",
     "output_type": "stream",
     "text": [
      "0      13.478907\n",
      "1       1.480445\n",
      "2       1.299647\n",
      "3       1.030799\n",
      "4       0.928394\n",
      "         ...    \n",
      "395     0.049440\n",
      "396     0.048980\n",
      "397     0.048864\n",
      "398     0.048558\n",
      "399     0.048393\n",
      "Name: 2022, Length: 400, dtype: float64\n"
     ]
    }
   ],
   "source": [
    "# total uk pop 66,488,991\n",
    "\n",
    "percentage_of_pop = (citydata['2022']/66488991)*100\n",
    "\n",
    "print(percentage_of_pop)\n"
   ]
  },
  {
   "cell_type": "code",
   "execution_count": 6,
   "id": "94570b9b-43e4-4aa1-b77a-24b2c7ec9d34",
   "metadata": {},
   "outputs": [
    {
     "name": "stdout",
     "output_type": "stream",
     "text": [
      "        2022         city  percentage_of_pop\n",
      "0    8961989       London          13.478907\n",
      "1     984333   Birmingham           1.480445\n",
      "2     864122    Liverpool           1.299647\n",
      "3     685368    Sheffield           1.030799\n",
      "4     617280      Bristol           0.928394\n",
      "..       ...          ...                ...\n",
      "395    32872    Brighouse           0.049440\n",
      "396    32566       Darwen           0.048980\n",
      "397    32489      Wisbech           0.048864\n",
      "398    32286        Aston           0.048558\n",
      "399    32176  Borehamwood           0.048393\n",
      "\n",
      "[400 rows x 3 columns]\n"
     ]
    },
    {
     "data": {
      "text/html": [
       "<div>\n",
       "<style scoped>\n",
       "    .dataframe tbody tr th:only-of-type {\n",
       "        vertical-align: middle;\n",
       "    }\n",
       "\n",
       "    .dataframe tbody tr th {\n",
       "        vertical-align: top;\n",
       "    }\n",
       "\n",
       "    .dataframe thead th {\n",
       "        text-align: right;\n",
       "    }\n",
       "</style>\n",
       "<table border=\"1\" class=\"dataframe\">\n",
       "  <thead>\n",
       "    <tr style=\"text-align: right;\">\n",
       "      <th></th>\n",
       "      <th>pop</th>\n",
       "      <th>city</th>\n",
       "      <th>percentage_of_pop</th>\n",
       "    </tr>\n",
       "  </thead>\n",
       "  <tbody>\n",
       "    <tr>\n",
       "      <th>0</th>\n",
       "      <td>8961989</td>\n",
       "      <td>London</td>\n",
       "      <td>13.478907</td>\n",
       "    </tr>\n",
       "    <tr>\n",
       "      <th>1</th>\n",
       "      <td>984333</td>\n",
       "      <td>Birmingham</td>\n",
       "      <td>1.480445</td>\n",
       "    </tr>\n",
       "    <tr>\n",
       "      <th>2</th>\n",
       "      <td>864122</td>\n",
       "      <td>Liverpool</td>\n",
       "      <td>1.299647</td>\n",
       "    </tr>\n",
       "    <tr>\n",
       "      <th>3</th>\n",
       "      <td>685368</td>\n",
       "      <td>Sheffield</td>\n",
       "      <td>1.030799</td>\n",
       "    </tr>\n",
       "    <tr>\n",
       "      <th>4</th>\n",
       "      <td>617280</td>\n",
       "      <td>Bristol</td>\n",
       "      <td>0.928394</td>\n",
       "    </tr>\n",
       "    <tr>\n",
       "      <th>...</th>\n",
       "      <td>...</td>\n",
       "      <td>...</td>\n",
       "      <td>...</td>\n",
       "    </tr>\n",
       "    <tr>\n",
       "      <th>395</th>\n",
       "      <td>32872</td>\n",
       "      <td>Brighouse</td>\n",
       "      <td>0.049440</td>\n",
       "    </tr>\n",
       "    <tr>\n",
       "      <th>396</th>\n",
       "      <td>32566</td>\n",
       "      <td>Darwen</td>\n",
       "      <td>0.048980</td>\n",
       "    </tr>\n",
       "    <tr>\n",
       "      <th>397</th>\n",
       "      <td>32489</td>\n",
       "      <td>Wisbech</td>\n",
       "      <td>0.048864</td>\n",
       "    </tr>\n",
       "    <tr>\n",
       "      <th>398</th>\n",
       "      <td>32286</td>\n",
       "      <td>Aston</td>\n",
       "      <td>0.048558</td>\n",
       "    </tr>\n",
       "    <tr>\n",
       "      <th>399</th>\n",
       "      <td>32176</td>\n",
       "      <td>Borehamwood</td>\n",
       "      <td>0.048393</td>\n",
       "    </tr>\n",
       "  </tbody>\n",
       "</table>\n",
       "<p>400 rows × 3 columns</p>\n",
       "</div>"
      ],
      "text/plain": [
       "         pop         city  percentage_of_pop\n",
       "0    8961989       London          13.478907\n",
       "1     984333   Birmingham           1.480445\n",
       "2     864122    Liverpool           1.299647\n",
       "3     685368    Sheffield           1.030799\n",
       "4     617280      Bristol           0.928394\n",
       "..       ...          ...                ...\n",
       "395    32872    Brighouse           0.049440\n",
       "396    32566       Darwen           0.048980\n",
       "397    32489      Wisbech           0.048864\n",
       "398    32286        Aston           0.048558\n",
       "399    32176  Borehamwood           0.048393\n",
       "\n",
       "[400 rows x 3 columns]"
      ]
     },
     "execution_count": 6,
     "metadata": {},
     "output_type": "execute_result"
    }
   ],
   "source": [
    "pop_df = pd.DataFrame(percentage_of_pop)\n",
    "\n",
    "#print(pop_df)\n",
    "\n",
    "#merge column into df\n",
    "citydata['percentage_of_pop'] = pop_df.loc[:,'2022']\n",
    "\n",
    "print(citydata)\n",
    "\n",
    "#rename pesky 2022\n",
    "\n",
    "citydata.rename(columns={\"2022\":\"pop\"})"
   ]
  },
  {
   "cell_type": "code",
   "execution_count": 7,
   "id": "194ba288-87cd-4365-8d8e-9bc9d77094fd",
   "metadata": {},
   "outputs": [],
   "source": [
    "city_per = list(citydata['percentage_of_pop'])\n",
    "# print(city_per)\n",
    "\n",
    "#turn df column into list of ratios "
   ]
  },
  {
   "cell_type": "code",
   "execution_count": 8,
   "id": "8f618e9c-77ed-4e2c-b19c-30f988530729",
   "metadata": {},
   "outputs": [
    {
     "name": "stdout",
     "output_type": "stream",
     "text": [
      "['London', 'Barry', 'Royal Tunbridge Wells', 'Glasgow', 'Sutton', 'Blackpool', 'Woking', 'Bognor Regis', 'London', 'London', 'Castlereagh', 'Wolverhampton', 'Stafford', 'London', 'Southampton', 'Wakefield', 'Sheffield', 'Abingdon', 'Havant', 'London', 'London', 'Cambridge', 'Bloxwich', 'Preston', 'Liverpool', 'Plymouth', 'London', 'Liverpool', 'City of Westminster', 'Sutton', 'Sheffield', 'Sheffield', 'Liverpool', 'Bexley', 'Leeds', 'London', 'Livingston', 'Burnley', 'Sutton Coldfield', 'London', 'Pudsey', 'Reigate', 'London', 'Sunderland', 'Wakefield', 'Halifax', 'Trowbridge', 'Plymouth', 'Morley', 'Romford', 'Cardiff', 'West Bromwich', 'West Bridgford', 'Leytonstone', 'Ipswich', 'West Bromwich', 'London', 'Bristol', 'Runcorn', 'Belfast', 'London', 'York', 'St Albans', 'Harlow', 'Kingston upon Hull', 'City of Westminster', 'Wigan', 'Wrexham', 'Mansfield', 'Swansea', 'Newcastle upon Tyne', 'London', 'London', 'St Albans', 'Colwyn Bay', 'Hastings', 'Swansea', 'London', 'Crawley', 'Chiswick', 'Folkestone', 'Peterborough', 'Dunstable', 'Sheffield', 'Croydon', 'Arnold', 'Bolton', 'Bexley', 'Leicester', 'York', 'Yeadon', 'London', 'Kingswood', 'Wallasey', 'Long Eaton', 'Aylesbury', 'Bangor', 'Walsall', 'Huddersfield', 'Plymouth', 'London', 'Dunfermline', 'Blackburn', 'Birmingham', 'Ipswich', 'Portsmouth', 'Nottingham', 'Birkenhead', 'Peterborough', 'Lincoln', 'Colchester', 'Bexley', 'London', 'Sheffield', 'London', 'Brighton', 'Dunstable', 'Ashford', 'Runcorn', 'Welwyn Garden City', 'Glasgow', 'Halesowen', 'Bath', 'London', 'London', 'London', 'Barnsley', 'Bristol', 'London', 'Lincoln', 'Birkenhead', 'London', 'London', 'Warrington', 'London', 'Leicester', 'Halifax', 'Milton Keynes', 'Stoke-on-Trent', 'Norwich', 'London', 'Newport', 'Derby', 'London', 'London', 'Yeovil', 'Wigan', 'Birmingham', 'Watford', 'Farnborough', 'London', 'London', 'London', 'Scunthorpe', 'London', 'Redditch', 'High Peak', 'Doncaster', 'Liverpool', 'Accrington', 'Ashford', 'Walsall', 'Liverpool', 'Oldham', 'Swansea', 'Middlesbrough', 'Stoke-on-Trent', 'Mendip', 'London', 'Cardiff', 'Stirling', 'Llanelli', 'Cardiff', 'Crosby', 'Manchester', 'Bloxwich', 'Canary Wharf', 'Derby', 'Bristol', 'London', 'Eltham', 'London', 'Craigavon', 'Farnham', 'Blackburn', 'London', 'Wellingborough', 'Billingham', 'Redditch', 'Wigan', 'Preston', 'Birkenhead', 'Birmingham', 'Harlow', 'Wolverhampton', 'Birmingham', 'London', 'Solihull', 'Leeds', 'Swindon', 'Coventry', 'Bletchley', 'Yeovil', 'London', 'Birmingham', 'Coventry', 'Irvine', 'Maidenhead', 'Brent', 'Liverpool', 'Harlow', 'Livingston', 'Lytham St Annes', 'Brent', 'West Bridgford', 'Stevenage', 'Portsmouth', 'Bicester', 'Sheffield', 'Gateshead', 'London', 'London', 'Merthyr Tydfil', 'Liverpool', 'Uxbridge', 'Tottenham', 'Halesowen', 'Reading', 'Brent', 'Leeds', 'Batley', 'Watford', 'Bishops Stortford', 'Durham', 'London', 'Poole', 'London', 'London', 'London', 'Staines', 'Macclesfield', 'Fareham', 'Brent', 'Eastbourne', 'Maidenhead', 'Preston', 'Blackburn', 'Liverpool', 'London', 'Glasgow', 'Lancaster', 'Telford', 'Stretford', 'Bexley', 'Leicester', 'Macclesfield', 'Weymouth', 'London', 'Romford', 'London', 'London', 'Cwmbran', 'London', 'Sheffield', 'Wigston Magna', 'Derby', 'London', 'London', 'Sheffield', 'Canary Wharf', 'London', 'Merthyr Tydfil', 'Preston', 'Chipping Sodbury', 'Sutton in Ashfield', 'Leeds', 'Bristol', 'Dudley', 'London', 'Woking', 'London', 'London', 'Colwyn Bay', 'Leeds', 'High Wycombe', 'Blackpool', 'Manchester', 'London', 'Ashton-under-Lyne', 'Billericay', 'Billericay', 'London', 'Liverpool', 'Exeter', 'Exmouth', 'Cambridge', 'Wembley', 'Worthing', 'Glasgow', 'Cambridge', 'Manchester', 'Bristol', 'London', 'Edinburgh', 'Radcliffe', 'Blackpool', 'Woking', 'Sutton Coldfield', 'North Shields', 'Newport', 'Manchester', 'Coventry', 'Stoke-on-Trent', 'Barry', 'Kilmarnock', 'Cardiff', 'Sunderland', 'Doncaster', 'Bolton', 'High Wycombe', 'Bristol', 'London', 'Bristol', 'London', 'Poole', 'London', 'London', 'Dagenham', 'Leeds', 'Buckley', 'Sutton', 'Cumbernauld', 'London', 'Crawley', 'Mitcham', 'London', 'Canvey Island', 'London', 'Finchley', 'Chorley', 'Wallasey', 'Stoke-on-Trent', 'London', 'Croydon', 'Bury St Edmunds', 'Leeds', 'Kilmarnock', 'London', 'Grantham', 'London', 'Stoke-on-Trent', 'Hinckley', 'Aldershot', 'Willesden', 'Sale', 'Rugby', 'Grays', 'London', 'Wolverhampton', 'London', 'Beckenham', 'Royal Leamington Spa', 'Bristol', 'London', 'Chester-le-Street', 'Hereford', 'York', 'Cambridge', 'Acton', 'Milton Keynes', 'Swansea', 'Brent', 'Glasgow', 'London', 'Bedford', 'Derby', 'Blackburn', 'London', 'Nottingham', 'London', 'London', 'Glasgow', 'Fareham', 'Bradford', 'Bradford', 'Colchester', 'Sheffield', 'London', 'Warrington', 'Crawley', 'Enfield Town', 'City of Westminster', 'Stevenage', 'Paisley', 'Sheffield', 'Sutton', 'Dudley', 'Liverpool', 'Belfast', 'Huddersfield', 'Willesden', 'Newark on Trent', 'Leicester', 'Bedford', 'London', 'London', 'Croydon', 'Bromsgrove', 'London', 'Stamford Hill', 'West Bridgford', 'Manchester', 'Harrogate', 'Gravesend', 'Kingston upon Hull', 'Hemel Hempstead', 'Crewe', 'Hastings', 'Brentwood', \"King's Lynn\", 'Airdrie', 'Blackburn', 'London', 'Bristol', 'Liverpool', 'Blackburn', 'Gosport', 'London', 'Southport', 'Tamworth', 'Birkenhead', 'Croydon', 'London', 'Fylde', 'London', 'Felling', 'Hereford', 'Chelmsford', 'Leicester', 'Greenock', 'Redcar', 'London', 'Chingford', 'Halesowen', 'Becontree', 'Hemel Hempstead', 'Southampton', 'Andover', 'Hitchin', 'Preston', 'Widnes', 'Wolverhampton', 'London', 'Coventry', 'London', 'Sutton in Ashfield', 'Redcar', 'London', 'Newcastle under Lyme', 'Southend-on-Sea', 'London', 'Leeds', 'Bristol', 'Purley', 'London', 'Birmingham', 'City of Westminster', 'London', 'Chesterfield', 'Watford', 'Castlereagh', 'Birmingham', 'Edinburgh', 'Cambridge', 'Leicester', 'Brighton', 'Bristol', 'Chester', 'Kettering', 'Hereford', 'Chippenham', 'Doncaster', 'Newcastle upon Tyne', 'Hamilton', 'Rossendale', 'Blackburn', 'Preston', 'Edinburgh', 'London', 'Castleford', 'London', 'Salford', 'Doncaster', 'Stratford', 'Southall', 'Chippenham', 'London', 'Crawley', 'Basildon', 'Manchester']\n"
     ]
    }
   ],
   "source": [
    "sample_list = list(citydata['city'])\n",
    "\n",
    "\n",
    "import random\n",
    "random.seed(1)\n",
    "random_list_city = random.choices(sample_list, weights = city_per,\n",
    "              k=500)\n",
    "print(random_list_city)\n"
   ]
  },
  {
   "cell_type": "code",
   "execution_count": 9,
   "id": "5aa96f1b-8059-4cc0-8d23-9562c4680da9",
   "metadata": {},
   "outputs": [
    {
     "name": "stdout",
     "output_type": "stream",
     "text": [
      "                      city\n",
      "0                   London\n",
      "1                    Barry\n",
      "2    Royal Tunbridge Wells\n",
      "3                  Glasgow\n",
      "4                   Sutton\n",
      "..                     ...\n",
      "495             Chippenham\n",
      "496                 London\n",
      "497                Crawley\n",
      "498               Basildon\n",
      "499             Manchester\n",
      "\n",
      "[500 rows x 1 columns]\n"
     ]
    }
   ],
   "source": [
    "#making a dataframe out of the data\n",
    "import pandas as pd\n",
    "sim_city = pd.DataFrame(random_list_city)\n",
    "\n",
    "\n",
    "sim_city = sim_city.rename(columns={0:\"city\"})\n",
    "\n",
    "print(sim_city)"
   ]
  },
  {
   "cell_type": "code",
   "execution_count": 10,
   "id": "6b191d43-a474-4429-ae98-c46b69e3a1ba",
   "metadata": {},
   "outputs": [
    {
     "data": {
      "text/plain": [
       "London       94\n",
       "Bristol      11\n",
       "Liverpool    11\n",
       "Sheffield    10\n",
       "Leeds         8\n",
       "             ..\n",
       "Farnham       1\n",
       "Eltham        1\n",
       "Crosby        1\n",
       "Llanelli      1\n",
       "Basildon      1\n",
       "Name: city, Length: 215, dtype: int64"
      ]
     },
     "execution_count": 10,
     "metadata": {},
     "output_type": "execute_result"
    }
   ],
   "source": [
    "sim_city['city'].value_counts()"
   ]
  },
  {
   "cell_type": "code",
   "execution_count": 11,
   "id": "ce65ca4e-8910-4182-844b-1a26002dec5e",
   "metadata": {},
   "outputs": [],
   "source": [
    "countries_all_noeng = pd.DataFrame(\n",
    "    {\"city\":['Aberdeen', 'Dundee', 'Dunfermline', 'Edinburgh', 'Glasgow', 'Inverness', 'Perth', 'Stirling', 'Armagh', 'Bangor', 'Belfast', 'Lisburn','Londonderry', 'Newry', 'Bangor', 'Cardiff', 'Newport', 'St Asaph', 'St Davids', 'Swansea', 'Wrexham'],\n",
    "    \"country\": ['Scotland', 'Scotland', 'Scotland', 'Scotland', 'Scotland', 'Scotland', 'Scotland', 'Scotland', 'Northern Ireland', 'Northern Ireland', 'Northern Ireland', 'Northern Ireland', 'Northern Ireland', 'Northern Ireland', 'Wales', 'Wales', 'Wales', 'Wales', 'Wales', 'Wales', 'Wales']}, index = [1, 2, 3, 4, 5, 6, 7, 8, 9, 10, 11, 12, 13, 14, 15, 16, 17, 18, 19, 20, 21])\n",
    "\n",
    "countries_nor_ire = pd.DataFrame(\n",
    "    {\"city\": ['Armagh', 'Bangor', 'Belfast', 'Lisburn','Londonderry', 'Newry'],\n",
    "    \"country\": ['Northern Ireland', 'Northern Ireland', 'Northern Ireland', 'Northern Ireland', 'Northern Ireland', 'Northern Ireland']}, index = [1, 2, 3, 4, 5, 6])     \n",
    "\n",
    "     \n",
    "countries_wal = pd.DataFrame(\n",
    "    {\"city\": ['Bangor', 'Cardiff', 'Newport', 'St Asaph', 'St Davids', 'Swansea', 'Wrexham'],\n",
    "    \"country\": ['Wales', 'Wales', 'Wales', 'Wales', 'Wales', 'Wales', 'Wales']}, index = [1, 2, 3, 4, 5, 6, 7])     \n",
    "         \n",
    "\n",
    "  \n"
   ]
  },
  {
   "cell_type": "code",
   "execution_count": 12,
   "id": "fb910da1-748e-4204-a230-95f8d7e0a224",
   "metadata": {},
   "outputs": [
    {
     "name": "stdout",
     "output_type": "stream",
     "text": [
      "           city           country\n",
      "1      Aberdeen          Scotland\n",
      "2        Dundee          Scotland\n",
      "3   Dunfermline          Scotland\n",
      "4     Edinburgh          Scotland\n",
      "5       Glasgow          Scotland\n",
      "6     Inverness          Scotland\n",
      "7         Perth          Scotland\n",
      "8      Stirling          Scotland\n",
      "9        Armagh  Northern Ireland\n",
      "10       Bangor  Northern Ireland\n",
      "11      Belfast  Northern Ireland\n",
      "12      Lisburn  Northern Ireland\n",
      "13  Londonderry  Northern Ireland\n",
      "14        Newry  Northern Ireland\n",
      "15       Bangor             Wales\n",
      "16      Cardiff             Wales\n",
      "17      Newport             Wales\n",
      "18     St Asaph             Wales\n",
      "19    St Davids             Wales\n",
      "20      Swansea             Wales\n",
      "21      Wrexham             Wales\n"
     ]
    }
   ],
   "source": [
    "print(countries_all_noeng)"
   ]
  },
  {
   "cell_type": "code",
   "execution_count": 13,
   "id": "8321fefc-8458-4fcb-ac60-7a0980220604",
   "metadata": {},
   "outputs": [],
   "source": [
    "sim_city_country = pd.merge(sim_city, countries_all_noeng, how='left', on= 'city')\n"
   ]
  },
  {
   "cell_type": "code",
   "execution_count": 14,
   "id": "c6302108-882e-460a-8086-e1baa0a09eac",
   "metadata": {},
   "outputs": [
    {
     "name": "stdout",
     "output_type": "stream",
     "text": [
      "                      city   country\n",
      "0                   London       NaN\n",
      "1                    Barry       NaN\n",
      "2    Royal Tunbridge Wells       NaN\n",
      "3                  Glasgow  Scotland\n",
      "4                   Sutton       NaN\n",
      "..                     ...       ...\n",
      "496             Chippenham       NaN\n",
      "497                 London       NaN\n",
      "498                Crawley       NaN\n",
      "499               Basildon       NaN\n",
      "500             Manchester       NaN\n",
      "\n",
      "[501 rows x 2 columns]\n"
     ]
    }
   ],
   "source": [
    "print(sim_city_country)"
   ]
  },
  {
   "cell_type": "code",
   "execution_count": 15,
   "id": "8c43ab8a-7db4-4cc5-977e-32cd426972a7",
   "metadata": {},
   "outputs": [],
   "source": [
    "sim_city_country[['country']] = sim_city_country[['country']].fillna('England')"
   ]
  },
  {
   "cell_type": "code",
   "execution_count": 27,
   "id": "5ffc577f-06e5-4a16-afac-53d7386915d6",
   "metadata": {},
   "outputs": [
    {
     "name": "stdout",
     "output_type": "stream",
     "text": [
      "                      city   country\n",
      "0                   London   England\n",
      "1                    Barry   England\n",
      "2    Royal Tunbridge Wells   England\n",
      "3                  Glasgow  Scotland\n",
      "4                   Sutton   England\n",
      "..                     ...       ...\n",
      "496             Chippenham   England\n",
      "497                 London   England\n",
      "498                Crawley   England\n",
      "499               Basildon   England\n",
      "500             Manchester   England\n",
      "\n",
      "[501 rows x 2 columns]\n"
     ]
    }
   ],
   "source": [
    "print(sim_city_country)\n",
    "\n",
    "# THIS IS THE FINAL RESULT I DID IT"
   ]
  },
  {
   "cell_type": "code",
   "execution_count": 17,
   "id": "8b90d31d-f62f-47bc-a900-a1d16165fa6d",
   "metadata": {},
   "outputs": [],
   "source": [
    "# ignore the rest of this "
   ]
  },
  {
   "cell_type": "code",
   "execution_count": 18,
   "id": "83c9d814-4eba-4597-a654-f90418bbde08",
   "metadata": {},
   "outputs": [],
   "source": [
    "countrydata_series = pd.read_csv(\"uk-towns-sample.csv\")\n",
    "\n",
    "citypost_series = pd.read_excel(\"citypost.xls\")\n",
    "\n",
    "countrydata = pd.DataFrame(countrydata_series)\n",
    "citypost = pd.DataFrame(citypost_series)\n",
    "\n"
   ]
  },
  {
   "cell_type": "code",
   "execution_count": 19,
   "id": "dfae2e48-7d27-4364-995e-6874ab991ba8",
   "metadata": {},
   "outputs": [
    {
     "name": "stdout",
     "output_type": "stream",
     "text": [
      "              name   country postcode_sector\n",
      "0     Aaron's Hill   England           GU7 2\n",
      "1      Abbas Combe   England           BA8 0\n",
      "2         Abberley   England           WR6 6\n",
      "3         Abberton   England           CO5 7\n",
      "4         Abberton   England          WR10 2\n",
      "...            ...       ...             ...\n",
      "1798         Ayton  Scotland          TD14 5\n",
      "1799         Ayton   England          NE38 0\n",
      "1800  Ayton Castle  Scotland          TD14 5\n",
      "1801        Aywick  Scotland           ZE2 9\n",
      "1802       Azerley   England           HG4 3\n",
      "\n",
      "[1803 rows x 3 columns]\n"
     ]
    }
   ],
   "source": [
    "countrydata = countrydata.drop(columns = ['id', 'county', 'grid_reference', 'easting', 'northing', 'latitude', 'longitude', 'elevation', 'local_government_area', 'nuts_region', 'type'])\n",
    "\n",
    "print(countrydata)"
   ]
  },
  {
   "cell_type": "code",
   "execution_count": 20,
   "id": "39201e65-d2dc-4a75-85aa-daa961190859",
   "metadata": {},
   "outputs": [
    {
     "name": "stdout",
     "output_type": "stream",
     "text": [
      "              name   country postcode_sector\n",
      "0     Aaron's Hill   England             GU7\n",
      "1      Abbas Combe   England             BA8\n",
      "2         Abberley   England             WR6\n",
      "3         Abberton   England             CO5\n",
      "4         Abberton   England            WR10\n",
      "...            ...       ...             ...\n",
      "1798         Ayton  Scotland            TD14\n",
      "1799         Ayton   England            NE38\n",
      "1800  Ayton Castle  Scotland            TD14\n",
      "1801        Aywick  Scotland             ZE2\n",
      "1802       Azerley   England             HG4\n",
      "\n",
      "[1803 rows x 3 columns]\n"
     ]
    }
   ],
   "source": [
    "countrydata['postcode_sector']= countrydata['postcode_sector'].str[:-2]\n",
    "\n",
    "print(countrydata)\n",
    "\n",
    " "
   ]
  },
  {
   "cell_type": "code",
   "execution_count": 21,
   "id": "8053798c-4f22-41a6-a634-77becc7a52c7",
   "metadata": {},
   "outputs": [
    {
     "name": "stdout",
     "output_type": "stream",
     "text": [
      "           Town/City Zipcode\n",
      "0                Ash     CT3\n",
      "1        Ab Kettleby    LE14\n",
      "2        Abbas Combe     BA8\n",
      "3           Abberley     WR6\n",
      "4           Abberton    WR10\n",
      "..               ...     ...\n",
      "295   Ampney St Mary     GL7\n",
      "296  Ampney St Peter     GL7\n",
      "297           Amport    SP11\n",
      "298         Ampthill    MK45\n",
      "299           Ampton    IP31\n",
      "\n",
      "[300 rows x 2 columns]\n"
     ]
    }
   ],
   "source": [
    "citypost = citypost.drop(columns=['State', 'Country'])\n",
    "print(citypost)\n",
    "\n"
   ]
  },
  {
   "cell_type": "code",
   "execution_count": 22,
   "id": "e4bcf070-40f3-4e63-9519-47a51a9b1567",
   "metadata": {},
   "outputs": [],
   "source": [
    "citypost = citypost.rename(columns={\"Zipcode\":\"postcode_sector\"})"
   ]
  },
  {
   "cell_type": "code",
   "execution_count": 23,
   "id": "072ffb24-b0a7-49fc-b549-995eab797005",
   "metadata": {},
   "outputs": [],
   "source": [
    "country_with_city = pd.merge(citypost, countrydata, how='outer', on= 'postcode_sector')"
   ]
  },
  {
   "cell_type": "code",
   "execution_count": 24,
   "id": "160c33ab-31ed-4c36-9a83-0eb9fa71224b",
   "metadata": {},
   "outputs": [
    {
     "name": "stdout",
     "output_type": "stream",
     "text": [
      "     Town/City postcode_sector              name  country\n",
      "0          Ash             CT3           Adisham  England\n",
      "1          Ash             CT3               Ash  England\n",
      "2          Ash             CT3          Aylesham  England\n",
      "3      Adisham             CT3           Adisham  England\n",
      "4      Adisham             CT3               Ash  England\n",
      "...        ...             ...               ...      ...\n",
      "2063       NaN             AL6  Ayot St Lawrence  England\n",
      "2064       NaN             AL6     Ayot St Peter  England\n",
      "2065       NaN             AL5         Ayres End  England\n",
      "2066       NaN             SR4       Ayre's Quay  England\n",
      "2067       NaN            NE38             Ayton  England\n",
      "\n",
      "[2068 rows x 4 columns]\n"
     ]
    }
   ],
   "source": [
    "print(country_with_city)"
   ]
  },
  {
   "cell_type": "code",
   "execution_count": 25,
   "id": "b90e738a-1130-46e3-83f7-06050be2fe30",
   "metadata": {},
   "outputs": [],
   "source": [
    "country_with_city = country_with_city.dropna()\n",
    "#country_with_city = country_with_city.drop(columns = {'name'})\n",
    "\n"
   ]
  },
  {
   "cell_type": "code",
   "execution_count": 26,
   "id": "17127c9e-8b74-4581-b9e0-78319dac7d6c",
   "metadata": {},
   "outputs": [
    {
     "ename": "KeyError",
     "evalue": "'city'",
     "output_type": "error",
     "traceback": [
      "\u001b[1;31m---------------------------------------------------------------------------\u001b[0m",
      "\u001b[1;31mKeyError\u001b[0m                                  Traceback (most recent call last)",
      "File \u001b[1;32m~\\anaconda3\\lib\\site-packages\\pandas\\core\\indexes\\base.py:3621\u001b[0m, in \u001b[0;36mIndex.get_loc\u001b[1;34m(self, key, method, tolerance)\u001b[0m\n\u001b[0;32m   3620\u001b[0m \u001b[38;5;28;01mtry\u001b[39;00m:\n\u001b[1;32m-> 3621\u001b[0m     \u001b[38;5;28;01mreturn\u001b[39;00m \u001b[38;5;28;43mself\u001b[39;49m\u001b[38;5;241;43m.\u001b[39;49m\u001b[43m_engine\u001b[49m\u001b[38;5;241;43m.\u001b[39;49m\u001b[43mget_loc\u001b[49m\u001b[43m(\u001b[49m\u001b[43mcasted_key\u001b[49m\u001b[43m)\u001b[49m\n\u001b[0;32m   3622\u001b[0m \u001b[38;5;28;01mexcept\u001b[39;00m \u001b[38;5;167;01mKeyError\u001b[39;00m \u001b[38;5;28;01mas\u001b[39;00m err:\n",
      "File \u001b[1;32m~\\anaconda3\\lib\\site-packages\\pandas\\_libs\\index.pyx:136\u001b[0m, in \u001b[0;36mpandas._libs.index.IndexEngine.get_loc\u001b[1;34m()\u001b[0m\n",
      "File \u001b[1;32m~\\anaconda3\\lib\\site-packages\\pandas\\_libs\\index.pyx:163\u001b[0m, in \u001b[0;36mpandas._libs.index.IndexEngine.get_loc\u001b[1;34m()\u001b[0m\n",
      "File \u001b[1;32mpandas\\_libs\\hashtable_class_helper.pxi:5198\u001b[0m, in \u001b[0;36mpandas._libs.hashtable.PyObjectHashTable.get_item\u001b[1;34m()\u001b[0m\n",
      "File \u001b[1;32mpandas\\_libs\\hashtable_class_helper.pxi:5206\u001b[0m, in \u001b[0;36mpandas._libs.hashtable.PyObjectHashTable.get_item\u001b[1;34m()\u001b[0m\n",
      "\u001b[1;31mKeyError\u001b[0m: 'city'",
      "\nThe above exception was the direct cause of the following exception:\n",
      "\u001b[1;31mKeyError\u001b[0m                                  Traceback (most recent call last)",
      "Input \u001b[1;32mIn [26]\u001b[0m, in \u001b[0;36m<cell line: 1>\u001b[1;34m()\u001b[0m\n\u001b[1;32m----> 1\u001b[0m country_with_city[\u001b[43mcountry_with_city\u001b[49m\u001b[43m[\u001b[49m\u001b[38;5;124;43m'\u001b[39;49m\u001b[38;5;124;43mcity\u001b[39;49m\u001b[38;5;124;43m'\u001b[39;49m\u001b[43m]\u001b[49m\u001b[38;5;241m.\u001b[39mstr\u001b[38;5;241m.\u001b[39mcontains(\u001b[38;5;124m\"\u001b[39m\u001b[38;5;124mLondon\u001b[39m\u001b[38;5;124m\"\u001b[39m)]\n\u001b[0;32m      3\u001b[0m \u001b[38;5;66;03m#problem - there is no london\u001b[39;00m\n\u001b[0;32m      5\u001b[0m country_with_city[country_with_city[\u001b[38;5;124m'\u001b[39m\u001b[38;5;124mname\u001b[39m\u001b[38;5;124m'\u001b[39m]\u001b[38;5;241m.\u001b[39mstr\u001b[38;5;241m.\u001b[39mcontains(\u001b[38;5;124m\"\u001b[39m\u001b[38;5;124mLondon\u001b[39m\u001b[38;5;124m\"\u001b[39m)]\n",
      "File \u001b[1;32m~\\anaconda3\\lib\\site-packages\\pandas\\core\\frame.py:3505\u001b[0m, in \u001b[0;36mDataFrame.__getitem__\u001b[1;34m(self, key)\u001b[0m\n\u001b[0;32m   3503\u001b[0m \u001b[38;5;28;01mif\u001b[39;00m \u001b[38;5;28mself\u001b[39m\u001b[38;5;241m.\u001b[39mcolumns\u001b[38;5;241m.\u001b[39mnlevels \u001b[38;5;241m>\u001b[39m \u001b[38;5;241m1\u001b[39m:\n\u001b[0;32m   3504\u001b[0m     \u001b[38;5;28;01mreturn\u001b[39;00m \u001b[38;5;28mself\u001b[39m\u001b[38;5;241m.\u001b[39m_getitem_multilevel(key)\n\u001b[1;32m-> 3505\u001b[0m indexer \u001b[38;5;241m=\u001b[39m \u001b[38;5;28;43mself\u001b[39;49m\u001b[38;5;241;43m.\u001b[39;49m\u001b[43mcolumns\u001b[49m\u001b[38;5;241;43m.\u001b[39;49m\u001b[43mget_loc\u001b[49m\u001b[43m(\u001b[49m\u001b[43mkey\u001b[49m\u001b[43m)\u001b[49m\n\u001b[0;32m   3506\u001b[0m \u001b[38;5;28;01mif\u001b[39;00m is_integer(indexer):\n\u001b[0;32m   3507\u001b[0m     indexer \u001b[38;5;241m=\u001b[39m [indexer]\n",
      "File \u001b[1;32m~\\anaconda3\\lib\\site-packages\\pandas\\core\\indexes\\base.py:3623\u001b[0m, in \u001b[0;36mIndex.get_loc\u001b[1;34m(self, key, method, tolerance)\u001b[0m\n\u001b[0;32m   3621\u001b[0m     \u001b[38;5;28;01mreturn\u001b[39;00m \u001b[38;5;28mself\u001b[39m\u001b[38;5;241m.\u001b[39m_engine\u001b[38;5;241m.\u001b[39mget_loc(casted_key)\n\u001b[0;32m   3622\u001b[0m \u001b[38;5;28;01mexcept\u001b[39;00m \u001b[38;5;167;01mKeyError\u001b[39;00m \u001b[38;5;28;01mas\u001b[39;00m err:\n\u001b[1;32m-> 3623\u001b[0m     \u001b[38;5;28;01mraise\u001b[39;00m \u001b[38;5;167;01mKeyError\u001b[39;00m(key) \u001b[38;5;28;01mfrom\u001b[39;00m \u001b[38;5;21;01merr\u001b[39;00m\n\u001b[0;32m   3624\u001b[0m \u001b[38;5;28;01mexcept\u001b[39;00m \u001b[38;5;167;01mTypeError\u001b[39;00m:\n\u001b[0;32m   3625\u001b[0m     \u001b[38;5;66;03m# If we have a listlike key, _check_indexing_error will raise\u001b[39;00m\n\u001b[0;32m   3626\u001b[0m     \u001b[38;5;66;03m#  InvalidIndexError. Otherwise we fall through and re-raise\u001b[39;00m\n\u001b[0;32m   3627\u001b[0m     \u001b[38;5;66;03m#  the TypeError.\u001b[39;00m\n\u001b[0;32m   3628\u001b[0m     \u001b[38;5;28mself\u001b[39m\u001b[38;5;241m.\u001b[39m_check_indexing_error(key)\n",
      "\u001b[1;31mKeyError\u001b[0m: 'city'"
     ]
    }
   ],
   "source": [
    "country_with_city[country_with_city['city'].str.contains(\"London\")]\n",
    "\n",
    "#problem - there is no london\n",
    "\n",
    "country_with_city[country_with_city['name'].str.contains(\"London\")]\n",
    "\n",
    "#no london in either dataset\n"
   ]
  },
  {
   "cell_type": "code",
   "execution_count": null,
   "id": "39e2679d-2f59-40fe-84c3-6f6a6199827a",
   "metadata": {},
   "outputs": [],
   "source": [
    "\n",
    "\n",
    "country_with_city = country_with_city.rename(columns={\"Town/City\":\"city\"})\n",
    "\n",
    "print(country_with_city)"
   ]
  },
  {
   "cell_type": "code",
   "execution_count": null,
   "id": "d2f167d2-8969-46a7-804f-f274cc85914f",
   "metadata": {},
   "outputs": [],
   "source": [
    "final_city_country = pd.merge(country_with_city, sim_city, how='right', on= 'city')"
   ]
  },
  {
   "cell_type": "code",
   "execution_count": null,
   "id": "82a4d1b6-4f2c-462a-a2bc-45b8f5eff477",
   "metadata": {},
   "outputs": [],
   "source": [
    "print(final_city_country)"
   ]
  },
  {
   "cell_type": "code",
   "execution_count": null,
   "id": "0e62823d-2ef0-42da-9fd6-f9a17c0fa0ad",
   "metadata": {},
   "outputs": [],
   "source": []
  }
 ],
 "metadata": {
  "kernelspec": {
   "display_name": "Python 3 (ipykernel)",
   "language": "python",
   "name": "python3"
  },
  "language_info": {
   "codemirror_mode": {
    "name": "ipython",
    "version": 3
   },
   "file_extension": ".py",
   "mimetype": "text/x-python",
   "name": "python",
   "nbconvert_exporter": "python",
   "pygments_lexer": "ipython3",
   "version": "3.9.12"
  }
 },
 "nbformat": 4,
 "nbformat_minor": 5
}
