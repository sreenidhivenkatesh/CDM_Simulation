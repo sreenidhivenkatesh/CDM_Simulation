{
 "cells": [
  {
   "cell_type": "code",
   "execution_count": 2,
   "id": "44e589ab",
   "metadata": {},
   "outputs": [],
   "source": [
    "import random"
   ]
  },
  {
   "cell_type": "code",
   "execution_count": 5,
   "id": "28279659",
   "metadata": {},
   "outputs": [
    {
     "name": "stdout",
     "output_type": "stream",
     "text": [
      "Defaulting to user installation because normal site-packages is not writeable\n",
      "Collecting names\n",
      "  Downloading names-0.3.0.tar.gz (789 kB)\n",
      "     -------------------------------------- 789.1/789.1 kB 7.1 MB/s eta 0:00:00\n",
      "  Preparing metadata (setup.py): started\n",
      "  Preparing metadata (setup.py): finished with status 'done'\n",
      "Building wheels for collected packages: names\n",
      "  Building wheel for names (setup.py): started\n",
      "  Building wheel for names (setup.py): finished with status 'done'\n",
      "  Created wheel for names: filename=names-0.3.0-py3-none-any.whl size=803682 sha256=a295dd838614885f7973b4ab4c0d579114301deeda229f28a948d83220b61bc1\n",
      "  Stored in directory: c:\\users\\sreenidhi venkatesh\\appdata\\local\\pip\\cache\\wheels\\f1\\bc\\04\\55ab9499ea02359ece8b02b4169ebb30aa52d82b84c13fc506\n",
      "Successfully built names\n",
      "Installing collected packages: names\n",
      "Successfully installed names-0.3.0\n",
      "Note: you may need to restart the kernel to use updated packages.\n"
     ]
    },
    {
     "name": "stderr",
     "output_type": "stream",
     "text": [
      "  WARNING: The script names.exe is installed in 'C:\\Users\\Sreenidhi Venkatesh\\AppData\\Roaming\\Python\\Python39\\Scripts' which is not on PATH.\n",
      "  Consider adding this directory to PATH or, if you prefer to suppress this warning, use --no-warn-script-location.\n"
     ]
    }
   ],
   "source": [
    "pip install names"
   ]
  },
  {
   "cell_type": "code",
   "execution_count": 6,
   "id": "ddd54d50",
   "metadata": {},
   "outputs": [],
   "source": [
    "import names"
   ]
  },
  {
   "cell_type": "code",
   "execution_count": 12,
   "id": "4b9de35d",
   "metadata": {},
   "outputs": [],
   "source": [
    "alleles = [0, 1]\n",
    "weights_rs10484554 = [14.3, 85.7]"
   ]
  },
  {
   "cell_type": "code",
   "execution_count": 14,
   "id": "816d04f7",
   "metadata": {},
   "outputs": [],
   "source": [
    "rs10484554 = random.choices(alleles, weights = weights_rs10484554, k = 500)"
   ]
  },
  {
   "cell_type": "code",
   "execution_count": 16,
   "id": "497b91f1",
   "metadata": {},
   "outputs": [],
   "source": [
    "weights_rs2395029 = [3.4, 96.6]"
   ]
  },
  {
   "cell_type": "code",
   "execution_count": 18,
   "id": "8eb052b4",
   "metadata": {},
   "outputs": [],
   "source": [
    "rs2395029 = random.choices(alleles, weights = weights_rs2395029, k = 500)"
   ]
  },
  {
   "cell_type": "code",
   "execution_count": 19,
   "id": "a3b2606f",
   "metadata": {},
   "outputs": [],
   "source": [
    "weights_rs13199524 = [8.3, 91.7]"
   ]
  },
  {
   "cell_type": "code",
   "execution_count": 47,
   "id": "a6c44713",
   "metadata": {},
   "outputs": [],
   "source": [
    "rs13199524 = random.choices(alleles, weights = weights_rs13199524, k = 500)"
   ]
  },
  {
   "cell_type": "code",
   "execution_count": 50,
   "id": "ddf3d8a0",
   "metadata": {},
   "outputs": [],
   "source": [
    "weights_rs12198173 = [9.0, 91.0]"
   ]
  },
  {
   "cell_type": "code",
   "execution_count": 52,
   "id": "ae06f33c",
   "metadata": {},
   "outputs": [],
   "source": [
    "rs12198173 = random.choices(alleles, weights = weights_rs12198173, k = 500)"
   ]
  },
  {
   "cell_type": "code",
   "execution_count": 54,
   "id": "84ee23ee",
   "metadata": {},
   "outputs": [],
   "source": [
    "weights_rs3093662 = [7.8, 92.2]"
   ]
  },
  {
   "cell_type": "code",
   "execution_count": 55,
   "id": "69cd1ee7",
   "metadata": {},
   "outputs": [],
   "source": [
    "rs3093662 = random.choices(alleles, weights = weights_rs3093662, k = 500)"
   ]
  },
  {
   "cell_type": "code",
   "execution_count": 56,
   "id": "0e53fef6",
   "metadata": {},
   "outputs": [],
   "source": [
    "import pandas as pd\n",
    "import numpy as np"
   ]
  },
  {
   "cell_type": "code",
   "execution_count": 33,
   "id": "8fea1732",
   "metadata": {},
   "outputs": [],
   "source": [
    "w = {'rs10484554' : [14.3, 85.7], 'rs2395029': [3.4, 96.6], 'rs13199524': [8.3, 91.7], 'rs12198173': [9.0, 91.0], 'rs3093662':[7.8, 92.2]}"
   ]
  },
  {
   "cell_type": "code",
   "execution_count": 34,
   "id": "080ef200",
   "metadata": {},
   "outputs": [
    {
     "data": {
      "text/plain": [
       "{'rs10484554': [14.3, 85.7],\n",
       " 'rs2395029': [3.4, 96.6],\n",
       " 'rs13199524': [8.3, 91.7],\n",
       " 'rs12198173': [9.0, 91.0],\n",
       " 'rs3093662': [7.8, 92.2]}"
      ]
     },
     "execution_count": 34,
     "metadata": {},
     "output_type": "execute_result"
    }
   ],
   "source": [
    "w"
   ]
  },
  {
   "cell_type": "code",
   "execution_count": 35,
   "id": "e1b571dd",
   "metadata": {},
   "outputs": [],
   "source": [
    "weights = pd.DataFrame(data = w)"
   ]
  },
  {
   "cell_type": "code",
   "execution_count": 36,
   "id": "15109fea",
   "metadata": {},
   "outputs": [
    {
     "data": {
      "text/html": [
       "<div>\n",
       "<style scoped>\n",
       "    .dataframe tbody tr th:only-of-type {\n",
       "        vertical-align: middle;\n",
       "    }\n",
       "\n",
       "    .dataframe tbody tr th {\n",
       "        vertical-align: top;\n",
       "    }\n",
       "\n",
       "    .dataframe thead th {\n",
       "        text-align: right;\n",
       "    }\n",
       "</style>\n",
       "<table border=\"1\" class=\"dataframe\">\n",
       "  <thead>\n",
       "    <tr style=\"text-align: right;\">\n",
       "      <th></th>\n",
       "      <th>rs10484554</th>\n",
       "      <th>rs2395029</th>\n",
       "      <th>rs13199524</th>\n",
       "      <th>rs12198173</th>\n",
       "      <th>rs3093662</th>\n",
       "    </tr>\n",
       "  </thead>\n",
       "  <tbody>\n",
       "    <tr>\n",
       "      <th>0</th>\n",
       "      <td>14.3</td>\n",
       "      <td>3.4</td>\n",
       "      <td>8.3</td>\n",
       "      <td>9.0</td>\n",
       "      <td>7.8</td>\n",
       "    </tr>\n",
       "    <tr>\n",
       "      <th>1</th>\n",
       "      <td>85.7</td>\n",
       "      <td>96.6</td>\n",
       "      <td>91.7</td>\n",
       "      <td>91.0</td>\n",
       "      <td>92.2</td>\n",
       "    </tr>\n",
       "  </tbody>\n",
       "</table>\n",
       "</div>"
      ],
      "text/plain": [
       "   rs10484554  rs2395029  rs13199524  rs12198173  rs3093662\n",
       "0        14.3        3.4         8.3         9.0        7.8\n",
       "1        85.7       96.6        91.7        91.0       92.2"
      ]
     },
     "execution_count": 36,
     "metadata": {},
     "output_type": "execute_result"
    }
   ],
   "source": [
    "weights"
   ]
  },
  {
   "cell_type": "code",
   "execution_count": 37,
   "id": "71dbfee9",
   "metadata": {},
   "outputs": [
    {
     "data": {
      "text/plain": [
       "rs10484554    float64\n",
       "rs2395029     float64\n",
       "rs13199524    float64\n",
       "rs12198173    float64\n",
       "rs3093662     float64\n",
       "dtype: object"
      ]
     },
     "execution_count": 37,
     "metadata": {},
     "output_type": "execute_result"
    }
   ],
   "source": [
    "weights.dtypes"
   ]
  },
  {
   "cell_type": "code",
   "execution_count": 38,
   "id": "06336ea4",
   "metadata": {},
   "outputs": [
    {
     "data": {
      "text/html": [
       "<div>\n",
       "<style scoped>\n",
       "    .dataframe tbody tr th:only-of-type {\n",
       "        vertical-align: middle;\n",
       "    }\n",
       "\n",
       "    .dataframe tbody tr th {\n",
       "        vertical-align: top;\n",
       "    }\n",
       "\n",
       "    .dataframe thead th {\n",
       "        text-align: right;\n",
       "    }\n",
       "</style>\n",
       "<table border=\"1\" class=\"dataframe\">\n",
       "  <thead>\n",
       "    <tr style=\"text-align: right;\">\n",
       "      <th></th>\n",
       "      <th>rs10484554</th>\n",
       "      <th>rs2395029</th>\n",
       "      <th>rs13199524</th>\n",
       "      <th>rs12198173</th>\n",
       "      <th>rs3093662</th>\n",
       "    </tr>\n",
       "  </thead>\n",
       "  <tbody>\n",
       "    <tr>\n",
       "      <th>0</th>\n",
       "      <td>14.3</td>\n",
       "      <td>3.4</td>\n",
       "      <td>8.3</td>\n",
       "      <td>9.0</td>\n",
       "      <td>7.8</td>\n",
       "    </tr>\n",
       "    <tr>\n",
       "      <th>1</th>\n",
       "      <td>85.7</td>\n",
       "      <td>96.6</td>\n",
       "      <td>91.7</td>\n",
       "      <td>91.0</td>\n",
       "      <td>92.2</td>\n",
       "    </tr>\n",
       "  </tbody>\n",
       "</table>\n",
       "</div>"
      ],
      "text/plain": [
       "   rs10484554  rs2395029  rs13199524  rs12198173  rs3093662\n",
       "0        14.3        3.4         8.3         9.0        7.8\n",
       "1        85.7       96.6        91.7        91.0       92.2"
      ]
     },
     "execution_count": 38,
     "metadata": {},
     "output_type": "execute_result"
    }
   ],
   "source": [
    "weights"
   ]
  },
  {
   "cell_type": "code",
   "execution_count": 39,
   "id": "4ee15a1d",
   "metadata": {},
   "outputs": [
    {
     "data": {
      "text/html": [
       "<div>\n",
       "<style scoped>\n",
       "    .dataframe tbody tr th:only-of-type {\n",
       "        vertical-align: middle;\n",
       "    }\n",
       "\n",
       "    .dataframe tbody tr th {\n",
       "        vertical-align: top;\n",
       "    }\n",
       "\n",
       "    .dataframe thead th {\n",
       "        text-align: right;\n",
       "    }\n",
       "</style>\n",
       "<table border=\"1\" class=\"dataframe\">\n",
       "  <thead>\n",
       "    <tr style=\"text-align: right;\">\n",
       "      <th></th>\n",
       "      <th>0</th>\n",
       "      <th>1</th>\n",
       "    </tr>\n",
       "  </thead>\n",
       "  <tbody>\n",
       "    <tr>\n",
       "      <th>rs10484554</th>\n",
       "      <td>14.3</td>\n",
       "      <td>85.7</td>\n",
       "    </tr>\n",
       "    <tr>\n",
       "      <th>rs2395029</th>\n",
       "      <td>3.4</td>\n",
       "      <td>96.6</td>\n",
       "    </tr>\n",
       "    <tr>\n",
       "      <th>rs13199524</th>\n",
       "      <td>8.3</td>\n",
       "      <td>91.7</td>\n",
       "    </tr>\n",
       "    <tr>\n",
       "      <th>rs12198173</th>\n",
       "      <td>9.0</td>\n",
       "      <td>91.0</td>\n",
       "    </tr>\n",
       "    <tr>\n",
       "      <th>rs3093662</th>\n",
       "      <td>7.8</td>\n",
       "      <td>92.2</td>\n",
       "    </tr>\n",
       "  </tbody>\n",
       "</table>\n",
       "</div>"
      ],
      "text/plain": [
       "               0     1\n",
       "rs10484554  14.3  85.7\n",
       "rs2395029    3.4  96.6\n",
       "rs13199524   8.3  91.7\n",
       "rs12198173   9.0  91.0\n",
       "rs3093662    7.8  92.2"
      ]
     },
     "execution_count": 39,
     "metadata": {},
     "output_type": "execute_result"
    }
   ],
   "source": [
    "weights.transpose()"
   ]
  }
 ],
 "metadata": {
  "kernelspec": {
   "display_name": "Python 3 (ipykernel)",
   "language": "python",
   "name": "python3"
  },
  "language_info": {
   "codemirror_mode": {
    "name": "ipython",
    "version": 3
   },
   "file_extension": ".py",
   "mimetype": "text/x-python",
   "name": "python",
   "nbconvert_exporter": "python",
   "pygments_lexer": "ipython3",
   "version": "3.9.13"
  }
 },
 "nbformat": 4,
 "nbformat_minor": 5
}
